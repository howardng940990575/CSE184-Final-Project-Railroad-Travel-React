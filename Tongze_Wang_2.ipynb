{
 "cells": [
  {
   "cell_type": "markdown",
   "metadata": {},
   "source": [
    "> This file is made by Tongze Wang (twang141 / 1702666)\n",
    "\n",
    "\n",
    "## File Explaination\n",
    "- `/data/stations` contains the schedule for a specific train station (scraped from ip138.com using `trainList.py`)\n",
    "- `/data/trains` contains the schedule for a specific train (scraped from ip138.com using `trainSchedule.py`)\n",
    "- `/data/tripsInfo` contains the cleaned version of all the train data needed in this project (generated using `cleanData.py`)\n",
    "- `/data/tripsInfoRaw` contains the raw version of all the detailed train data (scraped from 12306.cn using `trainDataRaw.py`)\n",
    "- `transfer.py` contains the beta version of the train tranfer search algorithm\n",
    "- `jiangsu_english.csv` contains all the english names of the train stations located within Jiangsu Province\n",
    "- `zhejiang_english.csv` contains all the english names of the train stations located within Zhejiang Province\n",
    "- `shanghai_english.csv` contains all the english names of the train stations located within Shanghai City\n",
    "- `requirements.txt` contains all pip3 dependencies needed in this project\n",
    "\n",
    "## Libraries Used\n",
    "Python3: beautifulsoup4, JSON, requests, re, numpy, pandas, selenium"
   ]
  },
  {
   "cell_type": "code",
   "execution_count": null,
   "metadata": {},
   "outputs": [],
   "source": [
    "#!/bin/bash\n",
    "pip3 install -r requirements.txt"
   ]
  },
  {
   "cell_type": "markdown",
   "metadata": {},
   "source": [
    "## 1. Scrape the Data\n",
    "\n",
    "> **All the scraped data is already saved in this repo. You may use the following scripts to scrape the lastest data at your own risk as it may fail in your network environment.**\n",
    "\n",
    "You can use `trainList.py` to scrape the schedule of a spcific train station. The result will be saved to `/data/stations` folder."
   ]
  },
  {
   "cell_type": "code",
   "execution_count": null,
   "metadata": {},
   "outputs": [],
   "source": [
    "#!/bin/bash\n",
    "python3 trainList.py"
   ]
  },
  {
   "cell_type": "markdown",
   "metadata": {},
   "source": [
    "You can use `trainSchedule.py` to scrape the schedule of a spcific train. The result will be saved to `/data/trains` folder."
   ]
  },
  {
   "cell_type": "code",
   "execution_count": null,
   "metadata": {},
   "outputs": [],
   "source": [
    "#!/bin/bash\n",
    "python3 trainSchedule.py"
   ]
  },
  {
   "cell_type": "markdown",
   "metadata": {},
   "source": [
    "You can use `trainDataRaw.py` to scrape the raw version of all the detailed train data. The result will be saved to `/data/tripsInfo` folder."
   ]
  },
  {
   "cell_type": "code",
   "execution_count": null,
   "metadata": {},
   "outputs": [],
   "source": [
    "#!/bin/bash\n",
    "python3 trainDataRaw.py"
   ]
  },
  {
   "cell_type": "markdown",
   "metadata": {},
   "source": [
    "> **`trainDataRaw.py` will send about 17,000 requests to 12306.cn to scrape the data. It will take hours to complete!!! We also saved the lastest data in `data/tripsInfoRaw.zip`. You can unzip it and so that it creates a folder called `data/tripsInfoRaw/`**"
   ]
  },
  {
   "cell_type": "markdown",
   "metadata": {},
   "source": [
    "## 2. Clean the Data\n",
    "You can use `cleanData.py` to clean all the data we scrapted from other websites. It will generate the `all.json` file under the `data/tripsInfo` folder as the result."
   ]
  },
  {
   "cell_type": "code",
   "execution_count": null,
   "metadata": {},
   "outputs": [],
   "source": [
    "#!/bin/bash\n",
    "python3 cleanData.py"
   ]
  },
  {
   "cell_type": "markdown",
   "metadata": {},
   "source": [
    "## 3. Try the Train Transfer Search Algorithm (Extra Part)\n",
    "> Note: this is the beta version of the train transfer search algorithm. This algorithm is not incorportated in our web vistuallization page since it's an extra part that is not required in the project due to its difficulty to build the code. This part is here because we want to show our extra efforts commited to this project. There might be bugs.\n",
    "\n",
    "Currently, the search algorithm only consider tranfer trips with one stop.\n",
    "Some smaller train stations may cause error in this algorithm as it doesn't have enrough trains connected to bigger trains stations. The total time needed may not be displayed correctly for all the time.\n",
    "\n",
    "We could use the following code to try to get the top 5 cheapest tranfer route and top 5 fastest tranfer route that could be used to travel from Shanghai Hongqiao to Hangzhou:"
   ]
  },
  {
   "cell_type": "code",
   "execution_count": 23,
   "metadata": {},
   "outputs": [
    {
     "name": "stdout",
     "output_type": "stream",
     "text": [
      "Shanghai Hongqiao can reach 77 stations without transfer\n",
      "There are 31 possible stops that can be used to reach Hangzhou from Shanghai Hongqiao in 1 transfer\n",
      "\n",
      "Shanghai Hongqiao ----> Hangzhou with 1 transfer\n",
      "====== Top 5 Cheapest Transfer Route ======\n",
      "¥ 72.5 / 04 hr 49 min : Shanghai Hongqiao (07:34) ===<D2212>===> (08:09) Suzhou (08:11) ===<Z281>==> Hangzhou (12:23)\n",
      "¥ 73.5 / 05 hr 47 min : Shanghai Hongqiao (07:02) ===<D2287>===> (07:20) Jinshan North (11:54) ===<G7351>==> Hangzhou (12:49)\n",
      "¥ 76.0 / 01 hr 43 min : Shanghai Hongqiao (06:50) ===<G7501>===> (07:13) Jiashan South (07:52) ===<G7395>==> Hangzhou (08:33)\n",
      "¥ 76.0 / 01 hr 38 min : Shanghai Hongqiao (06:55) ===<G1651>===> (07:21) Jiashan South (07:52) ===<G7395>==> Hangzhou (08:33)\n",
      "¥ 77.0 / 05 hr 17 min : Shanghai Hongqiao (07:32) ===<G1341>===> (07:50) Jinshan North (11:54) ===<G7351>==> Hangzhou (12:49)\n",
      "\n",
      "====== Top 5 Fastest Transfer Route ======\n",
      "01 hr 38 min / ¥ 76.0 : Shanghai Hongqiao (06:55) ===<G1651>===> (07:21) Jiashan South (07:52) ===<G7395>==> Hangzhou (08:33)\n",
      "01 hr 43 min / ¥ 76.0 : Shanghai Hongqiao (06:50) ===<G7501>===> (07:13) Jiashan South (07:52) ===<G7395>==> Hangzhou (08:33)\n",
      "01 hr 45 min / ¥ 77.0 : Shanghai Hongqiao (11:04) ===<G7461>===> (11:22) Jinshan North (11:54) ===<G7351>==> Hangzhou (12:49)\n",
      "02 hr 56 min / ¥ 125.0 : Shanghai Hongqiao (06:55) ===<G1651>===> (08:26) Zhuji (08:43) ===<T7786>==> Hangzhou (09:51)\n",
      "03 hr 03 min / ¥ 126.0 : Shanghai Hongqiao (08:48) ===<G7104>===> (09:16) Suzhou (09:17) ===<Z85>==> Hangzhou (11:51)\n"
     ]
    }
   ],
   "source": [
    "from transfer import getTransfer\n",
    "\n",
    "start_station = 'Shanghai Hongqiao'\n",
    "end_station = 'Hangzhou'\n",
    "\n",
    "# also try these two: \n",
    "#\n",
    "# start_station = 'Nanjing'\n",
    "# end_station = 'Shanghai Hongqiao'\n",
    "#\n",
    "# start_station = 'Ningbo'\n",
    "# end_station = 'Hangzhou'\n",
    "\n",
    "getTransfer(start_station, end_station)"
   ]
  },
  {
   "cell_type": "markdown",
   "metadata": {},
   "source": [
    "You may also choose any `start_station` and `end_station` from the following lists."
   ]
  },
  {
   "cell_type": "code",
   "execution_count": 9,
   "metadata": {},
   "outputs": [],
   "source": [
    "srtName_SH = ['Anting North',\n",
    "              'Jinshan North',\n",
    "              'Nanxiang North',\n",
    "              'Shanghai',\n",
    "              'Shanghai Hongqiao',\n",
    "              'Shanghai South',\n",
    "              'Shanghai West',\n",
    "              'Songjiang Railway',\n",
    "              'Songjiang South',\n",
    "              ]\n",
    "# All the station name in Shanghai City\n",
    "# 安亭北 金山北\t南翔北 上海 上海虹桥 上海南 上海西 松江 松江南\n",
    "\n",
    "\n",
    "# All the station short code in Zhejiang Province\n",
    "\n",
    "staName_ZJ = ['Cangnan',\n",
    "              'Changshan',\n",
    "              'Changxing',\n",
    "              'Changxing South',\n",
    "              'Deqing',\n",
    "              'Deqing West',\n",
    "              'Fenghua',\n",
    "              'Fuyang',\n",
    "              'Haining',\n",
    "              'Haining West',\n",
    "              'Hangzhou',\n",
    "              'Hangzhou East',\n",
    "              'Huzhou',\n",
    "              'Jiande',\n",
    "              'Jiangshan',\n",
    "              'Jiashan',\n",
    "              'Jiashan South',\n",
    "              'Jiaxing',\n",
    "              'Jiaxing South',\n",
    "              'Jinhua',\n",
    "              'Jinhua South',\n",
    "              'Jinyun',\n",
    "              'Jinyun West',\n",
    "              'Kaihua',\n",
    "              'Lanxi',\n",
    "              'Yueqing',\n",
    "              'Linhai',\n",
    "              'Lishui',\n",
    "              'Longyou',\n",
    "              'Ningbo',\n",
    "              'Ninghai',\n",
    "              'Pinghu',\n",
    "              'Pingyang',\n",
    "              'Qiandaohu',\n",
    "              'Qingtian',\n",
    "              'Zhangzhou',\n",
    "              'Ruian',\n",
    "              'Sanmen County',\n",
    "              'Sanyang',\n",
    "              'Shangyu',\n",
    "              'Shaoxing',\n",
    "              'Shaoxing North',\n",
    "              'Shaoxing East',\n",
    "              'Weifang',\n",
    "              'Taizhou',\n",
    "              'Tonglu',\n",
    "              'Tongxiang',\n",
    "              'Wenling',\n",
    "              'Wenzhou',\n",
    "              'Wenzhou South',\n",
    "              'Wuyi',\n",
    "              'Wuyi North',\n",
    "              'Yandangshan',\n",
    "              'Yiwu',\n",
    "              'Yongjia',\n",
    "              'Yongkang',\n",
    "              'Yongkang South',\n",
    "              'Yuhang',\n",
    "              'Yuyao',\n",
    "              'Yuyao North',\n",
    "              'Zhuangqiao',\n",
    "              'Zhuji'\n",
    "              ]\n",
    "\n",
    "# All the station name in Zhejiang Province\n",
    "# 苍南\t常山\t长兴\t长兴南\t德清\n",
    "# 德清西\t奉化\t富阳\t海宁\t海宁西\n",
    "# 杭州\t杭州东\t湖州\t建德\t江山\n",
    "# 嘉善\t嘉善南\t嘉兴\t嘉兴南\t金华\n",
    "# 金华南\t缙云\t缙云西\t开化\t兰溪\n",
    "# 乐清\t临海\t丽水\t龙游\t宁波\n",
    "# 宁海\t平湖\t平阳\t千岛湖\t青田\n",
    "# 衢州\t瑞安\t三门县\t三阳\t上虞\n",
    "# 绍兴\t绍兴北\t绍兴东\t绅坊\t台州\n",
    "# 桐庐\t桐乡\t温岭\t温州\t温州南\n",
    "# 武义\t武义北\t雁荡山\t义乌\t永嘉\n",
    "# 永康\t永康南\t余杭\t余姚\t余姚北\n",
    "# 庄桥\t诸暨\n",
    "\n",
    "staName_JS = ['Baohuashan',\n",
    "              'Bencha',\n",
    "              'Binhai Port',\n",
    "              'Changzhou',\n",
    "              'Changzhou North',\n",
    "              'Danyang',\n",
    "              'Danyang North',\n",
    "              'Donghai County',\n",
    "              'Suining',\n",
    "              'Suining East',\n",
    "              'Ganyu',\n",
    "              'Haian',\n",
    "              'Haimen',\n",
    "              'Huaian',\n",
    "              'Huaqiao',\n",
    "              'Huishan',\n",
    "              'Jiangdu',\n",
    "              'Jiangning',\n",
    "              'Jiangning West',\n",
    "              'Jiangyan',\n",
    "              'Jurong West',\n",
    "              'Kunshan',\n",
    "              'Kunshan South',\n",
    "              'Lianyungang',\n",
    "              'Lianyungang East',\n",
    "              'Fushui',\n",
    "              'Fuyang',\n",
    "              'Nanjing',\n",
    "              'Nanjing South',\n",
    "              'Nantong',\n",
    "              'Zhangzhou',\n",
    "              'Qidong',\n",
    "              'Qishuyan',\n",
    "              'Rudong',\n",
    "              'Rugao',\n",
    "              'Sheyang',\n",
    "              'Shuyang',\n",
    "              'Siyang',\n",
    "              'Suzhou',\n",
    "              'Suzhou North',\n",
    "              'Suzhou New District',\n",
    "              'Suzhou Park',\n",
    "              'Taizhou',\n",
    "              'Wawushan',\n",
    "              'Wuxi',\n",
    "              'Wuxi East',\n",
    "              'Wuxi New District',\n",
    "              'Xiangshui County',\n",
    "              'Xianlin',\n",
    "              'Xinyi',\n",
    "              'Xuzhou',\n",
    "              'Xuzhou East',\n",
    "              'Yancheng',\n",
    "              'Yancheng North',\n",
    "              'Yangcheng Lake',\n",
    "              'Yanghe',\n",
    "              'Yangzhou',\n",
    "              'Yixing',\n",
    "              'Zhenjiang',\n",
    "              'Zhenjiang South'\n",
    "              ]\n",
    "\n",
    "# All the station name in Jiangsu Province\n",
    "# 宝华山\t栟茶\t滨海港\t常州\t常州北\n",
    "# 丹阳\t丹阳北\t东海县\t阜宁\t阜宁东\n",
    "# 赣榆\t海安\t海门\t淮安\t花桥\n",
    "# 惠山\t江都\t江宁\t江宁西\t姜堰\n",
    "# 句容西\t昆山\t昆山南\t连云港\t连云港东\n",
    "# 溧水\t溧阳\t南京\t南京南\t南通\n",
    "# 邳州\t启东\t戚墅堰\t如东\t如皋\n",
    "# 射阳\t沭阳\t泗阳\t苏州\t苏州北\n",
    "# 苏州新区\t苏州园区\t泰州\t瓦屋山\t无锡\n",
    "# 无锡东\t无锡新区\t响水县\t仙林\t新沂\n",
    "# 徐州\t徐州东\t盐城\t盐城北\t阳澄湖\n",
    "# 洋河\t扬州\t宜兴\t镇江\t镇江南"
   ]
  },
  {
   "cell_type": "markdown",
   "metadata": {},
   "source": [
    "## 4. Visualization\n",
    "We used the above data to build an interactive webpage through React.js.\n",
    "\n",
    "You can click on the link and see it on the web\n",
    "\n",
    "https://howardng940990575.github.io/CSE184-Final-Project-Railroad-Travel-React/\n",
    "\n",
    "or run the following code to display it on jupyter notebook."
   ]
  },
  {
   "cell_type": "code",
   "execution_count": 1,
   "metadata": {},
   "outputs": [
    {
     "data": {
      "text/html": [
       "\n",
       "        <iframe\n",
       "            width=\"1000\"\n",
       "            height=\"1000\"\n",
       "            src=\"https://howardng940990575.github.io/CSE184-Final-Project-Railroad-Travel-React/\"\n",
       "            frameborder=\"0\"\n",
       "            allowfullscreen\n",
       "        ></iframe>\n",
       "        "
      ],
      "text/plain": [
       "<IPython.lib.display.IFrame at 0x253dc72f978>"
      ]
     },
     "execution_count": 1,
     "metadata": {},
     "output_type": "execute_result"
    }
   ],
   "source": [
    "from IPython.display import IFrame\n",
    "\n",
    "IFrame(src='https://howardng940990575.github.io/CSE184-Final-Project-Railroad-Travel-React/', width=1000, height=1000)"
   ]
  },
  {
   "cell_type": "code",
   "execution_count": null,
   "metadata": {},
   "outputs": [],
   "source": []
  }
 ],
 "metadata": {
  "kernelspec": {
   "display_name": "Python 3",
   "language": "python",
   "name": "python3"
  },
  "language_info": {
   "codemirror_mode": {
    "name": "ipython",
    "version": 3
   },
   "file_extension": ".py",
   "mimetype": "text/x-python",
   "name": "python",
   "nbconvert_exporter": "python",
   "pygments_lexer": "ipython3",
   "version": "3.7.3"
  }
 },
 "nbformat": 4,
 "nbformat_minor": 2
}
